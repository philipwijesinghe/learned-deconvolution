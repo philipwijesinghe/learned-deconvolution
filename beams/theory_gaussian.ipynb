{
  "cells": [
    {
      "cell_type": "markdown",
      "source": [
        "# Theory: Bessel-Gauss beam"
      ],
      "metadata": {}
    },
    {
      "cell_type": "code",
      "source": [
        "# from beams package ./beams/test_gaussian.py\n",
        "from test_gauss import plot_pupil_function, plot_gaussian"
      ],
      "outputs": [],
      "execution_count": 4,
      "metadata": {
        "execution": {
          "iopub.execute_input": "2020-05-21T11:24:56.477Z",
          "iopub.status.busy": "2020-05-21T11:24:56.473Z",
          "iopub.status.idle": "2020-05-21T11:24:56.482Z",
          "shell.execute_reply": "2020-05-21T11:24:56.486Z"
        },
        "jupyter": {
          "outputs_hidden": false,
          "source_hidden": false
        },
        "nteract": {
          "transient": {
            "deleting": false
          }
        },
        "outputExpanded": false
      }
    },
    {
      "cell_type": "markdown",
      "source": [
        "### References:\n",
        "\n",
        "wiki\n",
        "\n",
        "\n",
        "\n",
        "\n"
      ],
      "metadata": {
        "nteract": {
          "transient": {
            "deleting": false
          }
        }
      }
    },
    {
      "cell_type": "markdown",
      "source": [
        "## The Gaussian beam\n",
        "\n",
        "The Gaussian beam is described at the focus by the Gaussian function:\n",
        "$$\n",
        "E(x) = \\exp \\left( \\frac{-x^2}{w_0^2} \\right) \\, ,\n",
        "$$\n",
        "where $w_0$ is the beam waist radius.\n",
        "\n",
        "Note, at $x=w_0$, $E(w_0) = \\exp (-1) = 1/e$; therefore, $w_0$ describes the radius from centre where the amplitude drops to $1/e$ of its maximum.\n",
        "Also note that intensity (which we measure on the camera) $I = |E|^2$; thus, $I(w_0) = 1/e^2$, and $w_0$ describes the $1/e^2$ radius. \n",
        "Finally, $2w_0$ is the $1/e^2$ diameter, and $2w_0 = FWHM \\times \\sqrt{2}/\\ln(2)$.\n"
      ],
      "metadata": {
        "nteract": {
          "transient": {
            "deleting": false
          }
        }
      }
    },
    {
      "cell_type": "code",
      "source": [
        "plot_pupil_function()"
      ],
      "outputs": [
        {
          "output_type": "display_data",
          "data": {
            "text/plain": [
              "<Figure size 432x288 with 1 Axes>"
            ],
            "image/png": "[encoded data removed]"
          },
          "metadata": {
            "needs_background": "light"
          }
        }
      ],
      "execution_count": 2,
      "metadata": {
        "collapsed": true,
        "outputExpanded": false,
        "jupyter": {
          "source_hidden": false,
          "outputs_hidden": false
        },
        "nteract": {
          "transient": {
            "deleting": false
          }
        },
        "execution": {
          "iopub.status.busy": "2020-05-21T11:00:16.336Z",
          "iopub.execute_input": "2020-05-21T11:00:16.341Z",
          "iopub.status.idle": "2020-05-21T11:00:16.472Z",
          "shell.execute_reply": "2020-05-21T11:00:16.481Z"
        }
      }
    },
    {
      "cell_type": "markdown",
      "source": [
        "### Gaussian beam in the pupil plane\n",
        "\n",
        "Let's assume that the Gaussian beam in the pupil plane is given as:\n",
        "$$\n",
        "E_2(x) = \\exp \\left( \\frac{-x^2}{w_0^2} \\right) \\, .\n",
        "$$\n"
      ],
      "metadata": {
        "nteract": {
          "transient": {
            "deleting": false
          }
        }
      }
    },
    {
      "cell_type": "markdown",
      "source": [
        "### Gaussian beam in the image plane\n",
        "\n",
        "Using the Fourier transforming property of the lens, we can recover the amplitude at the image plane.\n",
        "Ignoring the amplitude component:\n",
        "$$\n",
        "E_1(u) = \\exp(-\\pi^2 w_0^2 u^2) \\, , \n",
        "$$\n",
        "which is evaluated at $u = x_1/(f\\lambda)$.\n",
        "Thus, the field at the focus becomes\n",
        "$$\n",
        "E_1(x_1) = \\exp(-\\pi^2 w_0^2 x_1^2 / (f\\lambda)^2) = \\exp(- x_1^2 / w_1^2) \\, , \n",
        "$$\n",
        "where $w_1$ = $f\\lambda/(\\pi w_0)$.\n"
      ],
      "metadata": {
        "nteract": {
          "transient": {
            "deleting": false
          }
        }
      }
    },
    {
      "cell_type": "markdown",
      "source": [
        "### Gaussian beam propagation at the sample\n",
        "\n",
        "Importantly, we know that the beam waist at focus ($1/e$ radius of amplitude) is $w_1$ = $f\\lambda/(\\pi w_0)$.\n",
        "\n",
        "We can figure out beam propagation from the Fresnel diffraction solution to the Helmholtz equation, but this is done for us and is well-known for a Gaussian beam.\n",
        "The Gaussian beam amplitude is given as:\n",
        "$$\n",
        "E_1(x,z) = \\frac{w_1}{w(z)} \\exp\\left(\\frac{-x^2}{w(z)^2}\\right) \\exp\\left(-i (kz + k\\frac{x^2}{2R(z)}-\\psi(z))\\right) \\, ,\n",
        "$$\n",
        "where $w(z) = w_1 \\sqrt{1+(z/z_R)^2}$, \n",
        "$z_R = \\pi w_1^2 n / \\lambda$ is the Reyleigh range, $R(z) = z (1+(z_R/z)^2)$ is the radius of curvature, and $\\psi(z) = \\arctan (z/z_R)$ is the Guoy phase.\n",
        "\n"
      ],
      "metadata": {
        "nteract": {
          "transient": {
            "deleting": false
          }
        }
      }
    },
    {
      "cell_type": "code",
      "source": [
        "plot_gaussian()"
      ],
      "outputs": [
        {
          "output_type": "stream",
          "name": "stdout",
          "text": [
            "2.174693142407658e-06\n"
          ]
        },
        {
          "output_type": "stream",
          "name": "stderr",
          "text": [
            "F:\\Work\\Projects\\deep-learning\\deep-learning-lsm\\beams\\test_gauss.py:60: RuntimeWarning: divide by zero encountered in double_scalars\n",
            "  rz = zv*(1+(zr/zv)**2)\n",
            "F:\\Work\\Projects\\deep-learning\\deep-learning-lsm\\beams\\test_gauss.py:60: RuntimeWarning: invalid value encountered in double_scalars\n",
            "  rz = zv*(1+(zr/zv)**2)\n"
          ]
        },
        {
          "output_type": "display_data",
          "data": {
            "text/plain": [
              "<Figure size 432x288 with 1 Axes>"
            ],
            "image/png": "[encoded data removed]"
          },
          "metadata": {
            "needs_background": "light"
          }
        }
      ],
      "execution_count": 5,
      "metadata": {
        "collapsed": true,
        "outputExpanded": false,
        "jupyter": {
          "source_hidden": false,
          "outputs_hidden": false
        },
        "nteract": {
          "transient": {
            "deleting": false
          }
        },
        "execution": {
          "iopub.status.busy": "2020-05-21T11:25:08.583Z",
          "iopub.execute_input": "2020-05-21T11:25:08.586Z",
          "iopub.status.idle": "2020-05-21T11:25:08.993Z",
          "shell.execute_reply": "2020-05-21T11:25:09.002Z"
        }
      }
    },
    {
      "cell_type": "markdown",
      "source": [
        "### Implementation note\n",
        "\n",
        "Note that in the formula for $E_1$, if $z=0$, $R(z)$ is a division by $0$.\n",
        "\n",
        "We make a modified parameter $zR(z) = (z^2 + z_R^2)$, and modify the last exponent to include $k x^2 z / (2(zR_z(z)))$ which evaluates to $0$ when $z=0$."
      ],
      "metadata": {
        "nteract": {
          "transient": {
            "deleting": false
          }
        }
      }
    },
    {
      "cell_type": "markdown",
      "source": [],
      "metadata": {
        "nteract": {
          "transient": {
            "deleting": false
          }
        }
      }
    }
  ],
  "metadata": {
    "kernelspec": {
      "display_name": "Python 3 (DD)",
      "language": "python",
      "name": "dd"
    },
    "language_info": {
      "name": "python",
      "version": "3.8.3",
      "mimetype": "text/x-python",
      "codemirror_mode": {
        "name": "ipython",
        "version": 3
      },
      "pygments_lexer": "ipython3",
      "nbconvert_exporter": "python",
      "file_extension": ".py"
    },
    "nteract": {
      "version": "0.23.1"
    }
  },
  "nbformat": 4,
  "nbformat_minor": 1
}